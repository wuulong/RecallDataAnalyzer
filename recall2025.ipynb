{
 "cells": [
  {
   "cell_type": "markdown",
   "metadata": {},
   "source": [
    "# 2025大罷免沃草.json 對應處理程式\n",
    "- version : v0.1\n"
   ]
  },
  {
   "cell_type": "markdown",
   "metadata": {},
   "source": [
    "```markdown\n",
    "## Cell 1: 載入套件與資料 (Updated)\n",
    "\n",
    "\n",
    "資料格式與範例資料\n",
    "[\n",
    "  {\n",
    "    \"DocumentID\": \"BA2025-001\",\n",
    "    \"Title\": \"2025 大罷免》為什麼要罷免傅崐萁？\",\n",
    "    \"Source\": \"沃草\",\n",
    "    \"Author\": \"何宇軒\",\n",
    "    \"DatePublished\": \"2024-05-22\",\n",
    "    \"DocumentType\": \"新聞報導\",\n",
    "    \"Topic\": [\"罷免\", \"傅崐萁\", \"國會擴權\", \"親中\", \"花蓮\"],\n",
    "    \"CoverageArea\": \"地方\",\n",
    "    \"SpecificLocation\": \"花蓮縣\",\n",
    "    \"TargetPoliticians\": [\n",
    "      {\n",
    "        \"TargetPoliticianID\": \"TP001\",\n",
    "        \"TargetPoliticianName\": \"傅崐萁\",\n",
    "        \"TargetPoliticianParty\": \"中國國民黨\",\n",
    "        \"TargetPoliticianDistrict\": \"花蓮縣\",\n",
    "        \"TargetPoliticianOffice\": \"立法委員\",\n",
    "        \"ReasonForRecall\": [\"強勢領導作風\", \"親中立場\", \"推動國會擴權法案\", \"刪減國防預算\", \"會見中共統戰頭子\", \"對嗆退休教師\"],\n",
    "        \"ReasonCategory\": [\"政治立場\", \"政策失當\", \"道德爭議\"],\n",
    "        \"MentionFrequency\": 30,\n",
    "        \"Sentiment\": \"負面\",\n",
    "        \"RelatedLegislation\": [\"國會擴權法案\", \"選罷法\", \"憲法訴訟法\", \"財政收支劃分法\"]\n",
    "      }\n",
    "    ],\n",
    "    \"RelatedPeople\": [\n",
    "      {\n",
    "        \"RelatedPersonName\": \"柯志恩\",\n",
    "        \"RelatedPersonRole\": \"立法委員\",\n",
    "        \"RelationshipToTarget\": \"同黨\",\n",
    "        \"MentionFrequency\": 3\n",
    "      },\n",
    "      {\n",
    "        \"RelatedPersonName\": \"黃捷\",\n",
    "        \"RelatedPersonRole\": \"立法委員\",\n",
    "        \"RelationshipToTarget\": \"對手\",\n",
    "        \"MentionFrequency\": 2\n",
    "      },\n",
    "\n",
    "    ],\n",
    "    \"Events\": [\n",
    "      {\n",
    "        \"EventName\": \"立法院通過財劃法\",\n",
    "        \"EventDate\": \"2024-05-17\",\n",
    "        \"EventType\": \"法案審查\",\n",
    "        \"EventLocation\": \"立法院\",\n",
    "        \"EventDescription\": \"立法院強勢通過《財劃法》，引發爭議。\",\n",
    "        \"InvolvedPoliticianIDs\": [\"TP001\"]\n",
    "      },\n",
    "      {\n",
    "        \"EventName\": \"傅崐萁率團訪中\",\n",
    "        \"EventDate\": \"2024-04-26\",\n",
    "        \"EventType\": \"政治活動\",\n",
    "        \"EventLocation\": \"中國\",\n",
    "        \"EventDescription\": \"傅崐萁於立法院開會期間率團訪中，會見王滬寧。\",\n",
    "        \"InvolvedPoliticianIDs\": [\"TP001\"]\n",
    "      },\n",
    "    ]\n",
    "  },\n",
    "]\n"
   ]
  },
  {
   "cell_type": "code",
   "execution_count": 1,
   "metadata": {},
   "outputs": [
    {
     "name": "stdout",
     "output_type": "stream",
     "text": [
      "Intel MKL WARNING: Support of Intel(R) Streaming SIMD Extensions 4.2 (Intel(R) SSE4.2) enabled only processors has been deprecated. Intel oneAPI Math Kernel Library 2025.0 will require Intel(R) Advanced Vector Extensions (Intel(R) AVX) instructions.\n",
      "Intel MKL WARNING: Support of Intel(R) Streaming SIMD Extensions 4.2 (Intel(R) SSE4.2) enabled only processors has been deprecated. Intel oneAPI Math Kernel Library 2025.0 will require Intel(R) Advanced Vector Extensions (Intel(R) AVX) instructions.\n",
      "成功從 '2025大罷免沃草.json' 讀取資料！\n"
     ]
    }
   ],
   "source": [
    "\n",
    "import json\n",
    "import pandas as pd\n",
    "import matplotlib.pyplot as plt\n",
    "from collections import Counter\n",
    "\n",
    "# 指定 JSON 檔案名稱\n",
    "json_file_path = \"2025大罷免沃草.json\"  # 請確保檔案 'recall_data.json' 與 Notebook 在同一個目錄，或提供完整路徑\n",
    "\n",
    "# 從檔案讀取 JSON 資料\n",
    "try:\n",
    "    with open(json_file_path, 'r', encoding='utf-8') as f: # 加上 encoding='utf-8' 處理中文\n",
    "        loaded_json_data = json.load(f)\n",
    "    print(f\"成功從 '{json_file_path}' 讀取資料！\")\n",
    "except FileNotFoundError:\n",
    "    print(f\"錯誤：找不到檔案 '{json_file_path}'。請確認檔案路徑是否正確，並將 JSON 資料儲存為 '{json_file_path}' 檔案。\")\n",
    "    loaded_json_data = [] # 若檔案不存在，載入空資料，避免後續程式碼錯誤\n",
    "except json.JSONDecodeError:\n",
    "    print(f\"錯誤：檔案 '{json_file_path}' JSON 格式不正確。請檢查檔案內容是否為有效的 JSON 格式。\")\n",
    "    loaded_json_data = []"
   ]
  },
  {
   "cell_type": "markdown",
   "metadata": {},
   "source": [
    "## Cell 2: 建立 `RecallDataAnalyzer` 物件與資料轉化"
   ]
  },
  {
   "cell_type": "code",
   "execution_count": 3,
   "metadata": {},
   "outputs": [],
   "source": [
    "class RecallDataAnalyzer:\n",
    "    def __init__(self, json_data):\n",
    "        self.raw_data = json_data # 原始 JSON 資料\n",
    "\n",
    "        self.politician_parties = self._get_politician_parties()\n",
    "        self.recall_reasons = self._get_recall_reasons()\n",
    "        self.reason_categories = self._get_reason_categories()\n",
    "        self.document_types = self._get_document_types()\n",
    "        self.coverage_areas = self._get_coverage_areas()\n",
    "        self.specific_locations = self._get_specific_locations()\n",
    "        self.topics = self._get_topics()\n",
    "        self.sentiments = self._get_sentiments()\n",
    "        self.event_types = self._get_event_types()\n",
    "        self.related_people_roles = self._get_related_people_roles()\n",
    "        self.reason_keywords_counts = self._get_reason_keywords_counts()\n",
    "        self.target_politicians = self._get_target_politicians()  # 新增變數\n",
    "\n",
    "\n",
    "    def _get_politician_parties(self):\n",
    "        parties = [tp['TargetPoliticianParty'] for doc in self.raw_data for tp in doc.get('TargetPoliticians', [])]\n",
    "        return Counter(parties)\n",
    "\n",
    "    def _get_recall_reasons(self):\n",
    "        reasons_dict = {}\n",
    "        for doc in self.raw_data:\n",
    "            for tp in doc.get('TargetPoliticians', []):\n",
    "                reasons_dict[tp['TargetPoliticianName']] = tp['ReasonForRecall']\n",
    "        return reasons_dict\n",
    "\n",
    "    def _get_reason_categories(self):\n",
    "        categories = [cat for doc in self.raw_data for tp in doc.get('TargetPoliticians', []) for cat in tp.get('ReasonCategory', [])]\n",
    "        return Counter(categories)\n",
    "\n",
    "    def _get_document_types(self):\n",
    "        doc_types = [doc['DocumentType'] for doc in self.raw_data]\n",
    "        return Counter(doc_types)\n",
    "\n",
    "    def _get_coverage_areas(self):\n",
    "        areas = [doc['CoverageArea'] for doc in self.raw_data]\n",
    "        return Counter(areas)\n",
    "\n",
    "    def _get_specific_locations(self):\n",
    "        locations = [doc['SpecificLocation'] for doc in self.raw_data if doc.get('SpecificLocation')] # 處理 None 值\n",
    "        return Counter(locations)\n",
    "\n",
    "    def _get_topics(self):\n",
    "        topics = [topic for doc in self.raw_data for topic in doc['Topic']]\n",
    "        return Counter(topics)\n",
    "\n",
    "    def _get_sentiments(self):\n",
    "        sentiments = [tp['Sentiment'] for doc in self.raw_data for tp in doc.get('TargetPoliticians', []) if tp.get('Sentiment')] # 處理 None 值\n",
    "        return Counter(sentiments)\n",
    "\n",
    "    def _get_event_types(self):\n",
    "        event_types = [event['EventType'] for doc in self.raw_data for event in doc.get('Events', [])]\n",
    "        return Counter(event_types)\n",
    "\n",
    "    def _get_related_people_roles(self):\n",
    "        roles = [person['RelatedPersonRole'] for doc in self.raw_data for person in doc.get('RelatedPeople', [])]\n",
    "        return Counter(roles)\n",
    "\n",
    "    def _get_reason_keywords_counts(self, top_n=10):\n",
    "        all_reasons = [reason for doc in self.raw_data for tp in doc.get('TargetPoliticians', []) for reason in tp['ReasonForRecall']]\n",
    "        reason_words = []\n",
    "        for reason in all_reasons:\n",
    "            reason_words.extend(reason.split())\n",
    "        return Counter(reason_words).most_common(top_n)\n",
    "\n",
    "    \n",
    "    def _get_target_politicians(self):\n",
    "        return {tp['TargetPoliticianName']: tp for doc in self.raw_data for tp in doc.get('TargetPoliticians', [])}"
   ]
  },
  {
   "cell_type": "markdown",
   "metadata": {},
   "source": [
    "## Cell 3: 基本資料檢視\n"
   ]
  },
  {
   "cell_type": "code",
   "execution_count": 4,
   "metadata": {},
   "outputs": [
    {
     "name": "stdout",
     "output_type": "stream",
     "text": [
      "文件數量: 27\n",
      "被罷免政黨數量: 2\n",
      "\n",
      "第一個文件的 Keys: dict_keys(['DocumentID', 'Title', 'Source', 'Author', 'DatePublished', 'DocumentType', 'Topic', 'CoverageArea', 'SpecificLocation', 'TargetPoliticians', 'RelatedPeople', 'Events'])\n"
     ]
    }
   ],
   "source": [
    "\n",
    "analyzer = RecallDataAnalyzer(loaded_json_data)\n",
    "print(f\"文件數量: {len(analyzer.raw_data)}\")\n",
    "print(f\"被罷免政黨數量: {len(analyzer.politician_parties)}\") # 使用實例變數\n",
    "print(\"\\n第一個文件的 Keys:\", analyzer.raw_data[0].keys() if analyzer.raw_data else \"No data loaded\") # 使用實例變數"
   ]
  },
  {
   "cell_type": "markdown",
   "metadata": {},
   "source": [
    "## Cell 4： 變數檢視"
   ]
  },
  {
   "cell_type": "code",
   "execution_count": 5,
   "metadata": {},
   "outputs": [
    {
     "name": "stdout",
     "output_type": "stream",
     "text": [
      "Counter({'中國國民黨': 22, '無黨籍 (國民黨團)': 1})\n",
      "{'傅崐萁': ['強勢領導作風', '親中立場', '推動國會擴權法案', '刪減國防預算', '會見中共統戰頭子', '對嗆退休教師'], '王鴻薇': ['刪減消防員預算', '參與傅崐萁統戰團', '凍結中選會預算', '親中言論', '肉搜公民'], '徐巧芯': ['家族涉詐騙', '違停爭議', '奢侈品爭議', '比中指', '罵髒話', '承認暴力行為', '凍結潛艦預算', '親中言論'], '葉元之': ['機密預算直播洩密', '慣老闆爭議', '刪減預算', '依賴空戰', '投機性格'], '牛煦庭': ['試用期8成薪', '反同爭議', '刪減性平預算', '暴打立委', '臉書罵網友', '行政干預罷免'], '李彥秀': ['美國豪宅未申報', '綠卡/公民身份質疑', '親中疑美', '削弱國防預算'], '徐欣瑩': ['修惡選罷法', '訪中', '凍結客委會預算', '刪減性平預算', '宗教色彩濃厚', '議事瑕疵', '跑去洗頭'], '邱鎮軍': ['推沈伯洋致腦震盪', '巴頭許智傑', '黑道背景', '賭博電玩爭議', '與統促黨關係密切', '暴力傾向'], '游顥': ['縮短中配入籍', '替救國團解套', '訪中', '政見跳票', '澎湖設服務處', '財劃法損害南投利益'], '羅明才': ['父親羅福助黑道背景', '大香山招待所爭議', '提倡發紅包民粹政策', '提倡兩岸和平協議', '參與傅崐萁訪中團', '刪減轉型正義預算'], '顏寬恒': ['家族黑金勢力', '貪污罪判刑', '土地爭議', '質詢率低', '配合黨團通過惡法'], '廖偉翔': ['收割中捷藍線政績', '質詢出包', '打人', '氣爆現場直播', '專業度受質疑', '魁儡網紅'], '呂玉玲': ['凍結國防預算', '刪減客家預算', '軍系立委形象不符', '賄選爭議', '黨團橡皮圖章'], '馬文君': ['阻撓潛艦國造', '洩密疑雲', '農地豪宅爭議', '提案刪減陸委會預算', '支持中配入籍'], '陳超明': ['SOGO收賄案', '烏龍言論', '石虎爭議', '支持賄選言論', '歧視同性戀言論', '口罩爭議', '盲從黨意'], '張智倫': ['政二代', '家族財產爭議', '刪減民防預算', '參與傅崐萁訪中團', '漠視年輕人困境', '刪減租金補助'], '洪孟楷': ['政二代', '壯世代法案爭議', '刪減體育預算又蹭棒球', '支持國會擴權法案', '家族中國投資'], '林沛祥': ['提案刪除中國人繼承遺產門檻', '參與傅崐萁訪中團', '干預淡水罷免', '質疑沈伯洋房產', '到處開砲管很大'], '羅智強': ['善於空戰製造聲量', '羞辱公督盟', '民粹操作死刑議題', '多次表態參選又退選', '無心經營地方', '護航中天'], '羅廷瑋': ['性騷爭議', '羞辱女性立委', '立院暴力行為', '助理看病咆哮醫院', '兼任評委', '立場轉變', '總預算棄權'], '鄭正鈐': ['硬闖國會擴權法案', '訪中會見王滬寧', '與詐騙集團有財務糾紛', '質詢蔡英文論文', '刪減科研預算', '未積極爭取地方建設'], '林思銘': ['大砍客委會預算', '凍結科學園區預算', '連署中配入籍', '鐵鍊三兄弟形象', '交通違規欠稅', '聲援楊文科'], '廖先翔': ['家族土地爭議', '刪減外交部預算（白蝦事件）', '凍結國防預算', '刪減社宅預算', '精準弱化國防']}\n",
      "Counter({'政策失當': 22, '道德爭議': 20, '政治立場': 19, '爭議言行': 14, '違法行為': 5, '家庭爭議': 5})\n",
      "Counter({'新聞報導': 23, 'N/A': 4})\n",
      "Counter({'地方': 23, 'N/A': 4})\n",
      "Counter({'新北市': 5, '台北市': 4, 'N/A': 4, '台中市': 3, '桃園市': 2, '新竹縣': 2, '苗栗縣': 2, '南投縣': 2, '花蓮縣': 1, '基隆市': 1, '新竹市': 1})\n",
      "Counter({'罷免': 23, '新北市': 5, '台北市': 4, '國會擴權': 3, '台中市': 3, '親中': 2, '洩密': 2, '桃園市': 2, '客家': 2, '新竹縣': 2, '暴力': 2, '黑道': 2, '苗栗縣': 2, '南投縣': 2, '失言': 2, '政二代': 2, '傅崐萁': 1, '花蓮': 1, '王鴻薇': 1, '徐巧芯': 1, '爭議言行': 1, '詐騙案': 1, '葉元之': 1, '慣老闆': 1, '牛煦庭': 1, '勞基法': 1, '性平': 1, '李彥秀': 1, '豪宅': 1, '綠卡': 1, '徐欣瑩': 1, '選罷法': 1, '邱鎮軍': 1, '游顥': 1, '中配入籍': 1, '救國團': 1, '羅明才': 1, '財劃法': 1, '顏寬恒': 1, '黑金': 1, '貪污': 1, '廖偉翔': 1, '收割政績': 1, '呂玉玲': 1, '軍系': 1, '國防預算': 1, '馬文君': 1, '潛艦國造': 1, '陳超明': 1, 'SOGO案': 1, '張智倫': 1, '服貿': 1, '洪孟楷': 1, '壯世代': 1, '林沛祥': 1, '刪除遺產門檻': 1, '基隆市': 1, '羅智強': 1, '空戰': 1, '廢死': 1, '羅廷瑋': 1, '性騷': 1, '鄭正鈐': 1, '詐騙': 1, '新竹市': 1, '林思銘': 1, '鐵鍊': 1, '廖先翔': 1, '土地爭議': 1, '白蝦': 1})\n",
      "Counter({'負面': 23})\n",
      "Counter({'爭議言行': 27, '預算審查': 24, '政治活動': 17, '道德爭議': 12, '政治立場': 12, '違法行為': 10, '爭議事件': 8, '政策失當': 8, '法案審查': 7, '質詢': 6, '罷免': 5, '選舉': 3, '法案提案': 3, '洩密': 1, '法律訴訟': 1})\n",
      "Counter({'立法委員': 50, '政治人物': 31, '前立法委員': 31, '中國政協主席': 8, '罷免領銜人': 7, '台北市議員': 6, '前行政院長': 6, '南投縣議員': 5, '台中市議員': 4, '前總統': 3, '總統參選人': 3, '前台北市長': 3, '學者': 3, '作家': 3, '台中市長': 3, '台北市長': 2, '前衛福部長': 2, '新竹縣議員': 2, '行政院長': 2, '父親': 2, '前台中市長': 2, '政治評論員': 2, '新竹市議員': 2, '公督盟執行長': 2, '母親, 前立法委員': 2, '退休教師': 1, '副總統': 1, '企業家': 1, '公民團體發言人': 1, '公民團體成員': 1, '前台中市研考會主委': 1, '前衛福部次長': 1, '桃園市長': 1, '立法院副院長': 1, '牧師': 1, '宗教領袖': 1, '統促黨總裁': 1, '苗栗縣議員': 1, '前立法院副院長': 1, '統促會副秘書長': 1, '主嫌': 1, '前美國眾議院議長': 1, '營造商': 1, '前民眾黨主席': 1, '桃園市議員': 1, '前國防大學教官': 1, '丈夫': 1, '前參謀總長': 1, '前海軍顧問': 1, '前副總統': 1, '監察院長': 1, '前法務部次長': 1, '前立法院長': 1, '前內政部長': 1, '大法官': 1, '立法院長': 1, '父親, 前立法委員': 1, '母親, 新北市議員': 1, '協會理事長': 1, '父親, 前基隆市長': 1, '基隆市長': 1, '前NCC主委': 1, '媒體人': 1, '前高雄市長': 1, '國民黨北市黨部主委': 1, '醫師': 1, '民眾黨市黨部主委': 1, '新竹市長': 1, '新竹市代理市長': 1, '新竹縣長': 1, '父親, 新北市議員': 1, '新北市議員': 1})\n",
      "[('參與傅崐萁訪中團', 3), ('親中言論', 2), ('刪減性平預算', 2), ('訪中', 2), ('凍結國防預算', 2), ('政二代', 2), ('強勢領導作風', 1), ('親中立場', 1), ('推動國會擴權法案', 1), ('刪減國防預算', 1)]\n",
      "{'傅崐萁': {'TargetPoliticianID': 'TP001', 'TargetPoliticianName': '傅崐萁', 'TargetPoliticianParty': '中國國民黨', 'TargetPoliticianDistrict': '花蓮縣', 'TargetPoliticianOffice': '立法委員', 'ReasonForRecall': ['強勢領導作風', '親中立場', '推動國會擴權法案', '刪減國防預算', '會見中共統戰頭子', '對嗆退休教師'], 'ReasonCategory': ['政治立場', '政策失當', '道德爭議'], 'MentionFrequency': 30, 'Sentiment': '負面', 'RelatedLegislation': ['國會擴權法案', '選罷法', '憲法訴訟法', '財政收支劃分法']}, '王鴻薇': {'TargetPoliticianID': 'TP002', 'TargetPoliticianName': '王鴻薇', 'TargetPoliticianParty': '中國國民黨', 'TargetPoliticianDistrict': '台北市', 'TargetPoliticianOffice': '立法委員', 'ReasonForRecall': ['刪減消防員預算', '參與傅崐萁統戰團', '凍結中選會預算', '親中言論', '肉搜公民'], 'ReasonCategory': ['政治立場', '政策失當', '道德爭議'], 'MentionFrequency': 20, 'Sentiment': '負面', 'RelatedLegislation': ['國會擴權法案', '財政收支劃分法', '中配入籍法案']}, '徐巧芯': {'TargetPoliticianID': 'TP003', 'TargetPoliticianName': '徐巧芯', 'TargetPoliticianParty': '中國國民黨', 'TargetPoliticianDistrict': '台北市', 'TargetPoliticianOffice': '立法委員', 'ReasonForRecall': ['家族涉詐騙', '違停爭議', '奢侈品爭議', '比中指', '罵髒話', '承認暴力行為', '凍結潛艦預算', '親中言論'], 'ReasonCategory': ['道德爭議', '違法行為', '政策失當', '爭議言行'], 'MentionFrequency': 35, 'Sentiment': '負面', 'RelatedLegislation': ['選罷法']}, '葉元之': {'TargetPoliticianID': 'TP004', 'TargetPoliticianName': '葉元之', 'TargetPoliticianParty': '中國國民黨', 'TargetPoliticianDistrict': '新北市', 'TargetPoliticianOffice': '立法委員', 'ReasonForRecall': ['機密預算直播洩密', '慣老闆爭議', '刪減預算', '依賴空戰', '投機性格'], 'ReasonCategory': ['政策失當', '道德爭議', '爭議言行', '政治立場'], 'MentionFrequency': 25, 'Sentiment': '負面', 'RelatedLegislation': ['中央政府總預算']}, '牛煦庭': {'TargetPoliticianID': 'TP005', 'TargetPoliticianName': '牛煦庭', 'TargetPoliticianParty': '中國國民黨', 'TargetPoliticianDistrict': '桃園市', 'TargetPoliticianOffice': '立法委員', 'ReasonForRecall': ['試用期8成薪', '反同爭議', '刪減性平預算', '暴打立委', '臉書罵網友', '行政干預罷免'], 'ReasonCategory': ['政策失當', '爭議言行', '政治立場', '道德爭議'], 'MentionFrequency': 28, 'Sentiment': '負面', 'RelatedLegislation': ['勞基法', '選罷法', '憲法訴訟法', '財政收支劃分法']}, '李彥秀': {'TargetPoliticianID': 'TP006', 'TargetPoliticianName': '李彥秀', 'TargetPoliticianParty': '中國國民黨', 'TargetPoliticianDistrict': '台北市', 'TargetPoliticianOffice': '立法委員', 'ReasonForRecall': ['美國豪宅未申報', '綠卡/公民身份質疑', '親中疑美', '削弱國防預算'], 'ReasonCategory': ['道德爭議', '政治立場', '政策失當'], 'MentionFrequency': 22, 'Sentiment': '負面', 'RelatedLegislation': ['公職人員財產申報法']}, '徐欣瑩': {'TargetPoliticianID': 'TP007', 'TargetPoliticianName': '徐欣瑩', 'TargetPoliticianParty': '中國國民黨', 'TargetPoliticianDistrict': '新竹縣', 'TargetPoliticianOffice': '立法委員', 'ReasonForRecall': ['修惡選罷法', '訪中', '凍結客委會預算', '刪減性平預算', '宗教色彩濃厚', '議事瑕疵', '跑去洗頭'], 'ReasonCategory': ['政策失當', '政治立場', '道德爭議', '爭議言行'], 'MentionFrequency': 32, 'Sentiment': '負面', 'RelatedLegislation': ['選罷法']}, '邱鎮軍': {'TargetPoliticianID': 'TP008', 'TargetPoliticianName': '邱鎮軍', 'TargetPoliticianParty': '中國國民黨', 'TargetPoliticianDistrict': '苗栗縣', 'TargetPoliticianOffice': '立法委員', 'ReasonForRecall': ['推沈伯洋致腦震盪', '巴頭許智傑', '黑道背景', '賭博電玩爭議', '與統促黨關係密切', '暴力傾向'], 'ReasonCategory': ['爭議言行', '違法行為', '政治立場', '道德爭議'], 'MentionFrequency': 30, 'Sentiment': '負面', 'RelatedLegislation': ['國會擴權法案', '選罷法']}, '游顥': {'TargetPoliticianID': 'TP009', 'TargetPoliticianName': '游顥', 'TargetPoliticianParty': '中國國民黨', 'TargetPoliticianDistrict': '南投縣', 'TargetPoliticianOffice': '立法委員', 'ReasonForRecall': ['縮短中配入籍', '替救國團解套', '訪中', '政見跳票', '澎湖設服務處', '財劃法損害南投利益'], 'ReasonCategory': ['政策失當', '政治立場', '爭議言行'], 'MentionFrequency': 29, 'Sentiment': '負面', 'RelatedLegislation': ['選罷法', '憲法訴訟法', '財政收支劃分法', '不當黨產處理條例']}, '羅明才': {'TargetPoliticianID': 'TP010', 'TargetPoliticianName': '羅明才', 'TargetPoliticianParty': '中國國民黨', 'TargetPoliticianDistrict': '新北市', 'TargetPoliticianOffice': '立法委員', 'ReasonForRecall': ['父親羅福助黑道背景', '大香山招待所爭議', '提倡發紅包民粹政策', '提倡兩岸和平協議', '參與傅崐萁訪中團', '刪減轉型正義預算'], 'ReasonCategory': ['道德爭議', '政治立場', '政策失當', '家庭爭議'], 'MentionFrequency': 26, 'Sentiment': '負面', 'RelatedLegislation': ['兩岸和平協議', '財政收支劃分法']}, '顏寬恒': {'TargetPoliticianID': 'TP011', 'TargetPoliticianName': '顏寬恒', 'TargetPoliticianParty': '中國國民黨', 'TargetPoliticianDistrict': '台中市', 'TargetPoliticianOffice': '立法委員', 'ReasonForRecall': ['家族黑金勢力', '貪污罪判刑', '土地爭議', '質詢率低', '配合黨團通過惡法'], 'ReasonCategory': ['違法行為', '道德爭議', '政策失當', '家庭爭議'], 'MentionFrequency': 33, 'Sentiment': '負面', 'RelatedLegislation': ['國會擴權法', '選罷法', '憲法訴訟法', '財政收支劃分法']}, '廖偉翔': {'TargetPoliticianID': 'TP012', 'TargetPoliticianName': '廖偉翔', 'TargetPoliticianParty': '中國國民黨', 'TargetPoliticianDistrict': '台中市', 'TargetPoliticianOffice': '立法委員', 'ReasonForRecall': ['收割中捷藍線政績', '質詢出包', '打人', '氣爆現場直播', '專業度受質疑', '魁儡網紅'], 'ReasonCategory': ['爭議言行', '政策失當', '道德爭議'], 'MentionFrequency': 30, 'Sentiment': '負面', 'RelatedLegislation': ['國會擴權法案', '選罷法', '憲法訴訟法', '財政收支劃分法']}, '呂玉玲': {'TargetPoliticianID': 'TP013', 'TargetPoliticianName': '呂玉玲', 'TargetPoliticianParty': '中國國民黨', 'TargetPoliticianDistrict': '桃園市', 'TargetPoliticianOffice': '立法委員', 'ReasonForRecall': ['凍結國防預算', '刪減客家預算', '軍系立委形象不符', '賄選爭議', '黨團橡皮圖章'], 'ReasonCategory': ['政策失當', '政治立場', '爭議言行'], 'MentionFrequency': 24, 'Sentiment': '負面', 'RelatedLegislation': ['國防預算']}, '馬文君': {'TargetPoliticianID': 'TP014', 'TargetPoliticianName': '馬文君', 'TargetPoliticianParty': '中國國民黨', 'TargetPoliticianDistrict': '南投縣', 'TargetPoliticianOffice': '立法委員', 'ReasonForRecall': ['阻撓潛艦國造', '洩密疑雲', '農地豪宅爭議', '提案刪減陸委會預算', '支持中配入籍'], 'ReasonCategory': ['政策失當', '政治立場', '道德爭議', '違法行為'], 'MentionFrequency': 35, 'Sentiment': '負面', 'RelatedLegislation': ['潛艦國造預算', '中配入籍法案']}, '陳超明': {'TargetPoliticianID': 'TP015', 'TargetPoliticianName': '陳超明', 'TargetPoliticianParty': '無黨籍 (國民黨團)', 'TargetPoliticianDistrict': '苗栗縣', 'TargetPoliticianOffice': '立法委員', 'ReasonForRecall': ['SOGO收賄案', '烏龍言論', '石虎爭議', '支持賄選言論', '歧視同性戀言論', '口罩爭議', '盲從黨意'], 'ReasonCategory': ['違法行為', '爭議言行', '政策失當', '道德爭議'], 'MentionFrequency': 30, 'Sentiment': '負面', 'RelatedLegislation': ['SOGO收賄案']}, '張智倫': {'TargetPoliticianID': 'TP016', 'TargetPoliticianName': '張智倫', 'TargetPoliticianParty': '中國國民黨', 'TargetPoliticianDistrict': '新北市', 'TargetPoliticianOffice': '立法委員', 'ReasonForRecall': ['政二代', '家族財產爭議', '刪減民防預算', '參與傅崐萁訪中團', '漠視年輕人困境', '刪減租金補助'], 'ReasonCategory': ['家庭爭議', '政策失當', '政治立場', '道德爭議'], 'MentionFrequency': 25, 'Sentiment': '負面', 'RelatedLegislation': ['服貿協議']}, '洪孟楷': {'TargetPoliticianID': 'TP017', 'TargetPoliticianName': '洪孟楷', 'TargetPoliticianParty': '中國國民黨', 'TargetPoliticianDistrict': '新北市', 'TargetPoliticianOffice': '立法委員', 'ReasonForRecall': ['政二代', '壯世代法案爭議', '刪減體育預算又蹭棒球', '支持國會擴權法案', '家族中國投資'], 'ReasonCategory': ['家庭爭議', '政策失當', '政治立場', '道德爭議'], 'MentionFrequency': 28, 'Sentiment': '負面', 'RelatedLegislation': ['壯世代政策及產業發展促進法', '國會擴權法案', '選罷法', '憲法訴訟法', '財政收支劃分法']}, '林沛祥': {'TargetPoliticianID': 'TP018', 'TargetPoliticianName': '林沛祥', 'TargetPoliticianParty': '中國國民黨', 'TargetPoliticianDistrict': '基隆市', 'TargetPoliticianOffice': '立法委員', 'ReasonForRecall': ['提案刪除中國人繼承遺產門檻', '參與傅崐萁訪中團', '干預淡水罷免', '質疑沈伯洋房產', '到處開砲管很大'], 'ReasonCategory': ['政策失當', '政治立場', '爭議言行'], 'MentionFrequency': 25, 'Sentiment': '負面', 'RelatedLegislation': ['臺灣地區與大陸地區人民關係條例']}, '羅智強': {'TargetPoliticianID': 'TP019', 'TargetPoliticianName': '羅智強', 'TargetPoliticianParty': '中國國民黨', 'TargetPoliticianDistrict': '台北市', 'TargetPoliticianOffice': '立法委員', 'ReasonForRecall': ['善於空戰製造聲量', '羞辱公督盟', '民粹操作死刑議題', '多次表態參選又退選', '無心經營地方', '護航中天'], 'ReasonCategory': ['爭議言行', '政治立場', '政策失當', '道德爭議'], 'MentionFrequency': 30, 'Sentiment': '負面', 'RelatedLegislation': ['反廢死公投']}, '羅廷瑋': {'TargetPoliticianID': 'TP020', 'TargetPoliticianName': '羅廷瑋', 'TargetPoliticianParty': '中國國民黨', 'TargetPoliticianDistrict': '台中市', 'TargetPoliticianOffice': '立法委員', 'ReasonForRecall': ['性騷爭議', '羞辱女性立委', '立院暴力行為', '助理看病咆哮醫院', '兼任評委', '立場轉變', '總預算棄權'], 'ReasonCategory': ['道德爭議', '爭議言行', '政策失當', '政治立場'], 'MentionFrequency': 35, 'Sentiment': '負面', 'RelatedLegislation': ['國家安全戰略法']}, '鄭正鈐': {'TargetPoliticianID': 'TP021', 'TargetPoliticianName': '鄭正鈐', 'TargetPoliticianParty': '中國國民黨', 'TargetPoliticianDistrict': '新竹市', 'TargetPoliticianOffice': '立法委員', 'ReasonForRecall': ['硬闖國會擴權法案', '訪中會見王滬寧', '與詐騙集團有財務糾紛', '質詢蔡英文論文', '刪減科研預算', '未積極爭取地方建設'], 'ReasonCategory': ['政策失當', '政治立場', '道德爭議', '爭議言行'], 'MentionFrequency': 28, 'Sentiment': '負面', 'RelatedLegislation': ['國會擴權法案', '選罷法', '憲法訴訟法', '財政收支劃分法']}, '林思銘': {'TargetPoliticianID': 'TP022', 'TargetPoliticianName': '林思銘', 'TargetPoliticianParty': '中國國民黨', 'TargetPoliticianDistrict': '新竹縣', 'TargetPoliticianOffice': '立法委員', 'ReasonForRecall': ['大砍客委會預算', '凍結科學園區預算', '連署中配入籍', '鐵鍊三兄弟形象', '交通違規欠稅', '聲援楊文科'], 'ReasonCategory': ['政策失當', '政治立場', '道德爭議', '爭議言行'], 'MentionFrequency': 29, 'Sentiment': '負面', 'RelatedLegislation': ['選罷法', '憲法訴訟法', '財政收支劃分法']}, '廖先翔': {'TargetPoliticianID': 'TP023', 'TargetPoliticianName': '廖先翔', 'TargetPoliticianParty': '中國國民黨', 'TargetPoliticianDistrict': '新北市', 'TargetPoliticianOffice': '立法委員', 'ReasonForRecall': ['家族土地爭議', '刪減外交部預算（白蝦事件）', '凍結國防預算', '刪減社宅預算', '精準弱化國防'], 'ReasonCategory': ['家庭爭議', '政策失當', '政治立場', '道德爭議'], 'MentionFrequency': 26, 'Sentiment': '負面', 'RelatedLegislation': ['中央政府總預算']}}\n"
     ]
    }
   ],
   "source": [
    "\n",
    "print(analyzer.politician_parties) \n",
    "print(analyzer.recall_reasons )\n",
    "print(analyzer.reason_categories )\n",
    "print(analyzer.document_types )\n",
    "print(analyzer.coverage_areas )\n",
    "print(analyzer.specific_locations) \n",
    "print(analyzer.topics )\n",
    "print(analyzer.sentiments )\n",
    "print(analyzer.event_types )\n",
    "print(analyzer.related_people_roles )\n",
    "print(analyzer.reason_keywords_counts) \n",
    "print(analyzer.target_politicians)\n",
    "\n"
   ]
  }
 ],
 "metadata": {
  "kernelspec": {
   "display_name": "m202407",
   "language": "python",
   "name": "python3"
  },
  "language_info": {
   "codemirror_mode": {
    "name": "ipython",
    "version": 3
   },
   "file_extension": ".py",
   "mimetype": "text/x-python",
   "name": "python",
   "nbconvert_exporter": "python",
   "pygments_lexer": "ipython3",
   "version": "3.10.14"
  }
 },
 "nbformat": 4,
 "nbformat_minor": 2
}
